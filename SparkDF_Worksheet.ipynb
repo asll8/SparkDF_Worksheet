{
 "cells": [
  {
   "cell_type": "code",
   "execution_count": 1,
   "metadata": {},
   "outputs": [],
   "source": [
    "from pyspark.sql import SparkSession "
   ]
  },
  {
   "cell_type": "code",
   "execution_count": 5,
   "metadata": {},
   "outputs": [
    {
     "name": "stdout",
     "output_type": "stream",
     "text": [
      "+---+---+\n",
      "|  X|  Y|\n",
      "+---+---+\n",
      "|  5|  5|\n",
      "| 15| 17|\n",
      "+---+---+\n",
      "only showing top 2 rows\n",
      "\n",
      "+---+---+---+\n",
      "|  X|  Y|  Z|\n",
      "+---+---+---+\n",
      "|  5|  5| 10|\n",
      "| 15| 17| 32|\n",
      "| 15| 16| 31|\n",
      "+---+---+---+\n",
      "only showing top 3 rows\n",
      "\n"
     ]
    }
   ],
   "source": [
    "spark = SparkSession.builder.appName(\"IntroApp\").getOrCreate()\n",
    "\n",
    "df = spark.read.option(\"inferSchema\",\"true\").csv(\"datasets/points.txt\")\n",
    "#df.printSchema()\n",
    "\n",
    "df = df.withColumnRenamed(\"_c0\",\"X\")\n",
    "df = df.withColumnRenamed(\"_c1\",\"Y\")\n",
    "df.show(2)\n",
    "\n",
    "df = df.withColumn(\"Z\",(df[\"X\"]+df[\"Y\"]))\n",
    "df.show(3)"
   ]
  },
  {
   "cell_type": "code",
   "execution_count": 8,
   "metadata": {},
   "outputs": [
    {
     "name": "stdout",
     "output_type": "stream",
     "text": [
      "+-----------+---+\n",
      "|Olus tarihi| xM|\n",
      "+-----------+---+\n",
      "| 2019.02.20|5.4|\n",
      "| 2018.04.24|5.4|\n",
      "| 2017.02.06|5.4|\n",
      "| 2016.12.20|5.4|\n",
      "| 2015.12.26|5.4|\n",
      "| 2015.10.06|5.4|\n",
      "| 2012.08.05|5.4|\n",
      "| 2011.11.08|5.4|\n",
      "| 2011.10.27|5.4|\n",
      "| 2011.06.23|5.4|\n",
      "| 2010.11.03|5.4|\n",
      "| 2009.12.22|5.4|\n",
      "| 2007.08.25|5.4|\n",
      "| 2005.01.10|5.4|\n",
      "| 2004.07.01|5.4|\n",
      "| 2003.07.26|5.4|\n",
      "| 2001.06.23|5.4|\n",
      "| 1999.11.12|5.4|\n",
      "| 1996.08.14|5.4|\n",
      "| 1995.02.14|5.4|\n",
      "+-----------+---+\n",
      "only showing top 20 rows\n",
      "\n"
     ]
    }
   ],
   "source": [
    "spark = SparkSession.builder.appName(\"IntroApp2\").getOrCreate()\n",
    "\n",
    "df = spark.read.option(\"inferSchema\",\"true\").option(\"delimiter\",\"\\t\").option(\"header\",\"true\").csv(\"datasets/DepremVerileri-2019-Nisan.txt\")\n",
    "df = df.select(\"Olus tarihi\",\"xM\",\"Yer\")\n",
    "df = df.sort(\"xM\",\"Olus tarihi\",ascending=False)\n",
    "df = df.drop(\"Yer\")\n",
    "df = df.filter( (df[\"xM\"] > 5) & (df[\"xM\"] < 5.5) )\n",
    "df.show()"
   ]
  },
  {
   "cell_type": "code",
   "execution_count": 10,
   "metadata": {},
   "outputs": [
    {
     "name": "stdout",
     "output_type": "stream",
     "text": [
      "+-------+------+---+--------------------+\n",
      "|  Enlem|Boylam| xM|                 Yer|\n",
      "+-------+------+---+--------------------+\n",
      "|   39.8| 39.51|7.9|KURUTILEK- (ERZIN...|\n",
      "|  36.54| 27.33|7.7|ONIKI ADALAR (AKD...|\n",
      "|  37.98| 44.48|7.6|T�RKIYE-IRAN SINI...|\n",
      "|  39.05| 44.04|7.5|YENIYAKA-CALDIRAN...|\n",
      "|  40.76| 29.97|7.4|BASISKELE (KOCAEL...|\n",
      "|   40.6|  27.2|7.3|ERIKLICE-SARKOY (...|\n",
      "|  40.74| 31.21|7.2|UGUR- (DUZCE) [No...|\n",
      "|  39.99| 27.36|7.2|SOGUCAK-YENICE (�...|\n",
      "|  35.41|  27.2|7.2|             AKDENIZ|\n",
      "|  41.05| 33.72|7.2|COMERT-ILGAZ (�AN...|\n",
      "|  41.41| 32.69|7.2|INCECAY-SAFRANBOL...|\n",
      "|38.7212|43.411|7.2|YEMLICE- (VAN) [N...|\n",
      "|  40.67|  31.0|7.1|GUZELDERE-GOLYAKA...|\n",
      "|  36.42| 28.68|7.1|             AKDENIZ|\n",
      "|  40.27| 36.83|7.1|TEKNECIK-ALMUS (T...|\n",
      "+-------+------+---+--------------------+\n",
      "\n"
     ]
    }
   ],
   "source": [
    "spark = SparkSession.builder.appName(\"App3\").getOrCreate()\n",
    "df =spark.read\\\n",
    "        .option(\"inferSchema\",\"true\")\\\n",
    "        .option(\"delimiter\",\"\\t\")\\\n",
    "        .option(\"header\",\"true\")\\\n",
    "        .csv(\"datasets/DepremVerileri-2019-Nisan.txt\")\n",
    "df.createOrReplaceTempView(\"deprem\")\n",
    "newDF = spark.sql(\"select Enlem,Boylam,xM,Yer from deprem where xM>7\")\n",
    "newDF = newDF.sort(\"xM\",ascending = False)\n",
    "newDF.show()"
   ]
  },
  {
   "cell_type": "code",
   "execution_count": 13,
   "metadata": {},
   "outputs": [
    {
     "name": "stdout",
     "output_type": "stream",
     "text": [
      "+----+----+---+---+-------+---------+-----+-----+\n",
      "| _c0| _c1| x1| y1|     x2|       y2|   x3|   y3|\n",
      "+----+----+---+---+-------+---------+-----+-----+\n",
      "|   5|   5|  5|  5|    5.0|      5.0|  5.0|  5.0|\n",
      "| 105| 107|105|107|  105.0|    107.0|105.0|107.0|\n",
      "| 105| 106|105|106|  105.0|    106.0|105.0|106.0|\n",
      "|null|   6|  0|  6|56.5625|      6.0|  8.0|  6.0|\n",
      "|   6|   6|  6|  6|    6.0|      6.0|  6.0|  6.0|\n",
      "| 106|null|106|  0|  106.0|59.764706|106.0|106.0|\n",
      "|   7|   7|  7|  7|    7.0|      7.0|  7.0|  7.0|\n",
      "|null|null|  0|  0|56.5625|59.764706|  8.0|106.0|\n",
      "| 107| 107|107|107|  107.0|    107.0|107.0|107.0|\n",
      "|   6|   7|  6|  7|    6.0|      7.0|  6.0|  7.0|\n",
      "|   7|null|  7|  0|    7.0|59.764706|  7.0|106.0|\n",
      "| 108| 108|108|108|  108.0|    108.0|108.0|108.0|\n",
      "|   8|   6|  8|  6|    8.0|      6.0|  8.0|  6.0|\n",
      "|null| 108|  0|108|56.5625|    108.0|  8.0|108.0|\n",
      "|   5|   8|  5|  8|    5.0|      8.0|  5.0|  8.0|\n",
      "| 107| 106|107|106|  107.0|    106.0|107.0|106.0|\n",
      "|   8|   8|  8|  8|    8.0|      8.0|  8.0|  8.0|\n",
      "|null| 107|  0|107|56.5625|    107.0|  8.0|107.0|\n",
      "| 107| 108|107|108|  107.0|    108.0|107.0|108.0|\n",
      "| 108| 106|108|106|  108.0|    106.0|108.0|106.0|\n",
      "+----+----+---+---+-------+---------+-----+-----+\n",
      "\n"
     ]
    }
   ],
   "source": [
    "#Null Values\n",
    "\n",
    "from pyspark.sql import SparkSession \n",
    "from pyspark.ml.feature import Imputer\n",
    "\n",
    "spark = SparkSession.builder.appName(\"App4\").getOrCreate()\n",
    "df =spark.read\\\n",
    "        .option(\"inferSchema\",\"true\")\\\n",
    "        .option(\"delimiter\",\",\")\\\n",
    "        .csv(\"datasets/points-null-values.txt\")\n",
    "\n",
    "df = df.withColumn(\"x1\",df[\"_c0\"]).withColumn(\"y1\",df[\"_c1\"])\n",
    "df = df.withColumn(\"x2\",df[\"_c0\"]).withColumn(\"y2\",df[\"_c1\"])\n",
    "df = df.withColumn(\"x3\",df[\"_c0\"]).withColumn(\"y3\",df[\"_c1\"])\n",
    "df = df.fillna(0,[\"x1\",\"y1\"])\n",
    "df = df.withColumn(\"x2\",df[\"x2\"].cast(\"float\"))\n",
    "df = df.withColumn(\"y2\",df[\"y2\"].cast(\"float\"))\n",
    "df = df.withColumn(\"x3\",df[\"x3\"].cast(\"float\"))\n",
    "df = df.withColumn(\"y3\",df[\"y3\"].cast(\"float\"))\n",
    "\n",
    "imputer = Imputer(strategy = \"mean\",inputCols = [\"x2\",\"y2\"],outputCols = [\"x2\",\"y2\"])\n",
    "imputerMedian = Imputer(strategy = \"median\",inputCols = [\"x3\",\"y3\"],outputCols = [\"x3\",\"y3\"])\n",
    "\n",
    "df = imputer.fit(df).transform(df)\n",
    "df = imputerMedian.fit(df).transform(df)\n",
    "df.show()"
   ]
  },
  {
   "cell_type": "code",
   "execution_count": 16,
   "metadata": {},
   "outputs": [
    {
     "name": "stdout",
     "output_type": "stream",
     "text": [
      "+--------+---+---+---+-----------------+\n",
      "|     _c0|_c1|_c2|_c3|         features|\n",
      "+--------+---+---+---+-----------------+\n",
      "|  Ankara|  5|  5|  0|    [5.0,5.0,0.0]|\n",
      "|Istanbul|105|  1|  1|  [105.0,1.0,1.0]|\n",
      "|Istanbul|105|106|  1|[105.0,106.0,1.0]|\n",
      "|  Ankara|  5|  6|  0|    [5.0,6.0,0.0]|\n",
      "|   Izmir|  6|  6|  0|    [6.0,6.0,0.0]|\n",
      "|  Ankara|106|106|  1|[106.0,106.0,1.0]|\n",
      "|Istanbul|  7|  7|  0|    [7.0,7.0,0.0]|\n",
      "|   Izmir|  7|  6|  0|    [7.0,6.0,0.0]|\n",
      "|Istanbul|107|107|  1|[107.0,107.0,1.0]|\n",
      "|Istanbul|  6|  7|  0|    [6.0,7.0,0.0]|\n",
      "|   Izmir|  7|  8|  0|    [7.0,8.0,0.0]|\n",
      "|  Ankara|108|108|  1|[108.0,108.0,1.0]|\n",
      "|Istanbul|  8|  6|  0|    [8.0,6.0,0.0]|\n",
      "|   Izmir|105|108|  1|[105.0,108.0,1.0]|\n",
      "|Istanbul|  5|  8|  0|    [5.0,8.0,0.0]|\n",
      "|  Ankara|107|106|  1|[107.0,106.0,1.0]|\n",
      "|   Izmir|  8|  8|  0|    [8.0,8.0,0.0]|\n",
      "|Istanbul|106|107|  1|[106.0,107.0,1.0]|\n",
      "|  Ankara|107|108|  1|[107.0,108.0,1.0]|\n",
      "|Istanbul|108|106|  1|[108.0,106.0,1.0]|\n",
      "+--------+---+---+---+-----------------+\n",
      "\n"
     ]
    }
   ],
   "source": [
    "#VectorAssembler\n",
    "\n",
    "from pyspark.ml.feature import Imputer,VectorAssembler\n",
    "\n",
    "spark = SparkSession.builder.appName(\"App5\").getOrCreate()\n",
    "df =spark.read\\\n",
    "        .option(\"inferSchema\",\"true\")\\\n",
    "        .option(\"delimiter\",\",\")\\\n",
    "        .csv(\"datasets/points-places.txt\")\n",
    "\n",
    "vecA = VectorAssembler(inputCols = df.columns[1:],outputCol = \"features\")\n",
    "df = vecA.transform(df)\n",
    "df.show()"
   ]
  },
  {
   "cell_type": "code",
   "execution_count": 18,
   "metadata": {},
   "outputs": [
    {
     "name": "stdout",
     "output_type": "stream",
     "text": [
      "+--------+---+---+---+-------------+--------------------+\n",
      "|     _c0|_c1|_c2|_c3|  encodedCity|            features|\n",
      "+--------+---+---+---+-------------+--------------------+\n",
      "|  Ankara|  5|  5|  0|(2,[1],[1.0])|[5.0,5.0,0.0,0.0,...|\n",
      "|Istanbul|105|  1|  1|(2,[0],[1.0])|[105.0,1.0,1.0,1....|\n",
      "|Istanbul|105|106|  1|(2,[0],[1.0])|[105.0,106.0,1.0,...|\n",
      "|  Ankara|  5|  6|  0|(2,[1],[1.0])|[5.0,6.0,0.0,0.0,...|\n",
      "|   Izmir|  6|  6|  0|    (2,[],[])| (5,[0,1],[6.0,6.0])|\n",
      "|  Ankara|106|106|  1|(2,[1],[1.0])|[106.0,106.0,1.0,...|\n",
      "|Istanbul|  7|  7|  0|(2,[0],[1.0])|[7.0,7.0,0.0,1.0,...|\n",
      "|   Izmir|  7|  6|  0|    (2,[],[])| (5,[0,1],[7.0,6.0])|\n",
      "|Istanbul|107|107|  1|(2,[0],[1.0])|[107.0,107.0,1.0,...|\n",
      "|Istanbul|  6|  7|  0|(2,[0],[1.0])|[6.0,7.0,0.0,1.0,...|\n",
      "|   Izmir|  7|  8|  0|    (2,[],[])| (5,[0,1],[7.0,8.0])|\n",
      "|  Ankara|108|108|  1|(2,[1],[1.0])|[108.0,108.0,1.0,...|\n",
      "|Istanbul|  8|  6|  0|(2,[0],[1.0])|[8.0,6.0,0.0,1.0,...|\n",
      "|   Izmir|105|108|  1|    (2,[],[])|[105.0,108.0,1.0,...|\n",
      "|Istanbul|  5|  8|  0|(2,[0],[1.0])|[5.0,8.0,0.0,1.0,...|\n",
      "|  Ankara|107|106|  1|(2,[1],[1.0])|[107.0,106.0,1.0,...|\n",
      "|   Izmir|  8|  8|  0|    (2,[],[])| (5,[0,1],[8.0,8.0])|\n",
      "|Istanbul|106|107|  1|(2,[0],[1.0])|[106.0,107.0,1.0,...|\n",
      "|  Ankara|107|108|  1|(2,[1],[1.0])|[107.0,108.0,1.0,...|\n",
      "|Istanbul|108|106|  1|(2,[0],[1.0])|[108.0,106.0,1.0,...|\n",
      "+--------+---+---+---+-------------+--------------------+\n",
      "\n"
     ]
    }
   ],
   "source": [
    "#StringIndexer&OneHotEncoder\n",
    "\n",
    "from pyspark.ml.feature import VectorAssembler,StringIndexer,OneHotEncoder\n",
    "\n",
    "spark = SparkSession.builder.appName(\"App6\").getOrCreate()\n",
    "df =spark.read\\\n",
    "        .option(\"inferSchema\",\"true\")\\\n",
    "        .option(\"delimiter\",\",\")\\\n",
    "        .csv(\"datasets/points-places.txt\")\n",
    "\n",
    "strIndexer = StringIndexer(inputCol = \"_c0\",outputCol = \"cityIndex\")\n",
    "df = strIndexer.fit(df).transform(df)\n",
    "encoder = OneHotEncoder(inputCol = \"cityIndex\",outputCol = \"encodedCity\")\n",
    "df= encoder.transform(df)\n",
    "df = df.drop(\"cityIndex\")\n",
    "vecA = VectorAssembler(inputCols=df.columns[1:],outputCol=\"features\")\n",
    "df = vecA.transform(df)\n",
    "df.show()"
   ]
  },
  {
   "cell_type": "code",
   "execution_count": 23,
   "metadata": {},
   "outputs": [
    {
     "name": "stdout",
     "output_type": "stream",
     "text": [
      "+---+---+-----------+----------+\n",
      "|  x|  y|   features|prediction|\n",
      "+---+---+-----------+----------+\n",
      "|  5|  5|  [5.0,5.0]|         0|\n",
      "| 15| 17|[15.0,17.0]|         2|\n",
      "| 15| 16|[15.0,16.0]|         2|\n",
      "|  5|  6|  [5.0,6.0]|         0|\n",
      "|  6|  6|  [6.0,6.0]|         0|\n",
      "| 16| 16|[16.0,16.0]|         2|\n",
      "|  7|  7|  [7.0,7.0]|         0|\n",
      "|  7|  6|  [7.0,6.0]|         0|\n",
      "| 17| 17|[17.0,17.0]|         2|\n",
      "|  6|  7|  [6.0,7.0]|         0|\n",
      "|  7|  8|  [7.0,8.0]|         0|\n",
      "| 18| 18|[18.0,18.0]|         1|\n",
      "|  8|  6|  [8.0,6.0]|         0|\n",
      "| 15| 18|[15.0,18.0]|         2|\n",
      "|  5|  8|  [5.0,8.0]|         0|\n",
      "| 17| 16|[17.0,16.0]|         2|\n",
      "|  8|  8|  [8.0,8.0]|         0|\n",
      "| 16| 17|[16.0,17.0]|         2|\n",
      "| 17| 18|[17.0,18.0]|         1|\n",
      "| 18| 16|[18.0,16.0]|         2|\n",
      "+---+---+-----------+----------+\n",
      "\n"
     ]
    },
    {
     "data": {
      "text/plain": [
       "[]"
      ]
     },
     "execution_count": 23,
     "metadata": {},
     "output_type": "execute_result"
    },
    {
     "data": {
      "image/png": "[encoded data removed]",
      "text/plain": [
       "<Figure size 432x288 with 1 Axes>"
      ]
     },
     "metadata": {
      "needs_background": "light"
     },
     "output_type": "display_data"
    }
   ],
   "source": [
    "#Clustering & K-Means\n",
    "\n",
    "from pyspark.ml.clustering import KMeans\n",
    "from matplotlib import pyplot as plt\n",
    "\n",
    "spark = SparkSession.builder.appName(\"KMeans App\").getOrCreate()\n",
    "df =spark.read\\\n",
    "        .option(\"inferSchema\",\"true\")\\\n",
    "        .option(\"delimiter\",\",\")\\\n",
    "        .csv(\"datasets/points.txt\")\n",
    "\n",
    "df = df.withColumnRenamed(\"_c0\",\"x\").withColumnRenamed(\"_c1\",\"y\")\n",
    "\n",
    "#xArr = df.select(\"x\").rdd.map(lambda x: x[0]).collect()\n",
    "#yArr = df.select(\"y\").rdd.map(lambda x: x[0]).collect()\n",
    "#plt.scatter(xArr,yArr)\n",
    "#plt.plot()\n",
    "\n",
    "vA = VectorAssembler(inputCols = [\"x\",\"y\"],outputCol = \"features\")\n",
    "df = vA.transform(df)\n",
    "k = 3\n",
    "km = KMeans().setK(k)\n",
    "df = km.fit(df).transform(df)\n",
    "df.show()\n",
    "\n",
    "for i in range(k):\n",
    "    x0 = df.filter(df[\"prediction\"]==i).select(\"x\").rdd.map(lambda x : x[0]).collect()\n",
    "    y0 = df.filter(df[\"prediction\"]==i).select(\"y\").rdd.map(lambda x : x[0]).collect()\n",
    "    plt.scatter(x0,y0)\n",
    "plt.plot()"
   ]
  },
  {
   "cell_type": "code",
   "execution_count": 27,
   "metadata": {},
   "outputs": [
    {
     "name": "stdout",
     "output_type": "stream",
     "text": [
      "+----------+-----+----+------------+----------+\n",
      "| Driver_ID|    x|   y|    features|prediction|\n",
      "+----------+-----+----+------------+----------+\n",
      "|3423311935|71.24|28.0|[71.24,28.0]|         2|\n",
      "|3423313212|52.53|25.0|[52.53,25.0]|         2|\n",
      "|3423313724|64.54|27.0|[64.54,27.0]|         2|\n",
      "|3423311373|55.69|22.0|[55.69,22.0]|         2|\n",
      "|3423310999|54.58|25.0|[54.58,25.0]|         2|\n",
      "|3423313857|41.91|10.0|[41.91,10.0]|         1|\n",
      "|3423312432|58.64|20.0|[58.64,20.0]|         2|\n",
      "|3423311434|52.02| 8.0| [52.02,8.0]|         1|\n",
      "|3423311328|31.25|34.0|[31.25,34.0]|         2|\n",
      "|3423312488|44.31|19.0|[44.31,19.0]|         2|\n",
      "|3423311254|49.35|40.0|[49.35,40.0]|         2|\n",
      "|3423312943|58.07|45.0|[58.07,45.0]|         2|\n",
      "|3423312536|44.22|22.0|[44.22,22.0]|         2|\n",
      "|3423311542|55.73|19.0|[55.73,19.0]|         2|\n",
      "|3423312176|46.63|43.0|[46.63,43.0]|         2|\n",
      "|3423314176|52.97|32.0|[52.97,32.0]|         2|\n",
      "|3423314202|46.25|35.0|[46.25,35.0]|         2|\n",
      "|3423311346|51.55|27.0|[51.55,27.0]|         2|\n",
      "|3423310666|57.05|26.0|[57.05,26.0]|         2|\n",
      "|3423313527|58.45|30.0|[58.45,30.0]|         2|\n",
      "+----------+-----+----+------------+----------+\n",
      "only showing top 20 rows\n",
      "\n"
     ]
    },
    {
     "data": {
      "text/plain": [
       "[]"
      ]
     },
     "execution_count": 27,
     "metadata": {},
     "output_type": "execute_result"
    },
    {
     "data": {
      "image/png": "[encoded data removed]",
      "text/plain": [
       "<Figure size 432x288 with 1 Axes>"
      ]
     },
     "metadata": {
      "needs_background": "light"
     },
     "output_type": "display_data"
    }
   ],
   "source": [
    "#KMeans-2\n",
    "\n",
    "from pyspark.ml.clustering import KMeans,LDA,GaussianMixture\n",
    "\n",
    "spark = SparkSession.builder.appName(\"KMeans App2\").getOrCreate()\n",
    "df =spark.read\\\n",
    "        .option(\"inferSchema\",\"true\")\\\n",
    "        .option(\"header\",\"true\")\\\n",
    "        .option(\"delimiter\",\"\\t\")\\\n",
    "        .csv(\"datasets/data_1024.csv\")\n",
    "\n",
    "df = df.withColumnRenamed(\"Distance_Feature\",\"x\").withColumnRenamed(\"Speeding_Feature\",\"y\")\n",
    "vA = VectorAssembler(inputCols = [\"x\",\"y\"],outputCol = \"features\")\n",
    "df = vA.transform(df)\n",
    "k = 4\n",
    "km = KMeans().setK(k)\n",
    "df = km.fit(df).transform(df)\n",
    "df.show()\n",
    "\n",
    "for i in range(k):\n",
    "    x0 = df.filter(df[\"prediction\"]==i).select(\"x\").rdd.map(lambda x : x[0]).collect()\n",
    "    y0 = df.filter(df[\"prediction\"]==i).select(\"y\").rdd.map(lambda x: x[0]).collect()\n",
    "    plt.scatter(x0,y0)\n",
    "plt.plot()"
   ]
  },
  {
   "cell_type": "code",
   "execution_count": 30,
   "metadata": {},
   "outputs": [
    {
     "name": "stdout",
     "output_type": "stream",
     "text": [
      "Accuracy:  0.967741935483871\n"
     ]
    }
   ],
   "source": [
    "#Classification\n",
    "\n",
    "from pyspark.ml.classification import RandomForestClassifier,DecisionTreeClassifier\n",
    "from pyspark.ml.evaluation import MulticlassClassificationEvaluator\n",
    "\n",
    "spark = SparkSession.builder.appName(\"IRIS Classification App\").getOrCreate()\n",
    "df =spark.read\\\n",
    "        .option(\"inferSchema\",\"true\")\\\n",
    "        .option(\"header\",\"true\")\\\n",
    "        .option(\"delimiter\",\",\")\\\n",
    "        .csv(\"datasets/iris-dataset.txt\")\n",
    "\n",
    "vA = VectorAssembler(inputCols =df.columns[0:-1], outputCol = \"features\" )\n",
    "df = vA.transform(df)\n",
    "df = df.select(\"features\",\"class\")\n",
    "indexer = StringIndexer(inputCol = \"class\", outputCol = \"label\")\n",
    "df = indexer.fit(df).transform(df)\n",
    "df = df.select(\"features\",\"label\")\n",
    "(trainDF,testDF) = df.randomSplit([0.75,0.25],seed = 1234)\n",
    "rfClassifier = RandomForestClassifier()\n",
    "modelDF = rfClassifier.fit(trainDF)\n",
    "resultDF = modelDF.transform(testDF)\n",
    "resultDF = resultDF.select(\"features\",\"label\",\"prediction\")\n",
    "evaluator = MulticlassClassificationEvaluator(metricName = \"accuracy\")\n",
    "result = evaluator.evaluate(resultDF)\n",
    "print(\"Accuracy: \",result)"
   ]
  },
  {
   "cell_type": "code",
   "execution_count": 37,
   "metadata": {},
   "outputs": [
    {
     "name": "stdout",
     "output_type": "stream",
     "text": [
      "Accuracy:  0.967741935483871\n",
      "Num Trees:  1\n",
      "Max Depth:  2\n",
      "Impurity:  gini\n"
     ]
    }
   ],
   "source": [
    "#TrainValidationSplit\n",
    "\n",
    "from pyspark.ml.tuning import TrainValidationSplit,ParamGridBuilder\n",
    "\n",
    "spark = SparkSession.builder.appName(\"IRIS Classification App2\").getOrCreate()\n",
    "df =spark.read\\\n",
    "        .option(\"inferSchema\",\"true\")\\\n",
    "        .option(\"header\",\"true\")\\\n",
    "        .option(\"delimiter\",\",\")\\\n",
    "        .csv(\"datasets/iris-dataset.txt\")\n",
    "\n",
    "vA = VectorAssembler(inputCols= df.columns[0:-1],outputCol= \"features\")\n",
    "df = vA.transform(df)\n",
    "df = df.select(\"features\",\"class\")\n",
    "indexer = StringIndexer(inputCol = \"class\",outputCol = \"label\")\n",
    "df = indexer.fit(df).transform(df)\n",
    "df = df.select(\"features\",\"label\")\n",
    "(trainDF,testDF) = df.randomSplit([0.75,0.25],seed = 1234)\n",
    "rfClassifier = RandomForestClassifier()\n",
    "myEvaluator = MulticlassClassificationEvaluator(metricName = \"accuracy\")\n",
    "myParams = ParamGridBuilder().addGrid(rfClassifier.numTrees,[1,2,3]).addGrid(rfClassifier.maxDepth,[1,2,3]).build()\n",
    "validator = TrainValidationSplit(estimator = rfClassifier,estimatorParamMaps = myParams,trainRatio = 0.75,evaluator = myEvaluator)\n",
    "bestModelRF = validator.fit(trainDF)\n",
    "resultRF = bestModelRF.transform(testDF)\n",
    "result = myEvaluator.evaluate(resultRF)\n",
    "print(\"Accuracy: \", result)\n",
    "print(\"Num Trees: \", bestModelRF.bestModel._java_obj.getNumTrees())\n",
    "print(\"Max Depth: \", bestModelRF.bestModel._java_obj.getMaxDepth())\n",
    "print(\"Impurity: \", bestModelRF.bestModel._java_obj.getImpurity())"
   ]
  },
  {
   "cell_type": "code",
   "execution_count": 38,
   "metadata": {},
   "outputs": [
    {
     "name": "stdout",
     "output_type": "stream",
     "text": [
      "Accuracy:  0.9032258064516129\n",
      "Num Trees :  2\n",
      "Max Depth :  2\n",
      "Impurity :   gini\n"
     ]
    }
   ],
   "source": [
    "#CrossValidation\n",
    "\n",
    "from pyspark.ml.tuning import CrossValidator,ParamGridBuilder\n",
    "\n",
    "spark = SparkSession.builder.appName(\"IRIS Classification App3\").getOrCreate()\n",
    "df =spark.read\\\n",
    "        .option(\"inferSchema\",\"true\")\\\n",
    "        .option(\"header\",\"true\")\\\n",
    "        .option(\"delimiter\",\",\")\\\n",
    "        .csv(\"datasets/iris-dataset.txt\")\n",
    "vA = VectorAssembler(inputCols=df.columns[0:-1],\n",
    "                     outputCol=\"features\")\n",
    "df = vA.transform(df)\n",
    "df = df.select(\"features\",\"class\")\n",
    "indexer = StringIndexer(inputCol = \"class\", outputCol = \"label\")\n",
    "df = indexer.fit(df).transform(df)\n",
    "df = df.select(\"features\",\"label\")\n",
    "(trainDF,testDF) = df.randomSplit([0.75,0.25],seed = 1234)\n",
    "rfClassifier = RandomForestClassifier()\n",
    "myEvaluator =  MulticlassClassificationEvaluator(metricName = \"accuracy\")\n",
    "myParams = ParamGridBuilder().addGrid(rfClassifier.numTrees,[1,2,3]).addGrid(rfClassifier.maxDepth,[1,2,3]).build()\n",
    "validator = CrossValidator(estimator = rfClassifier, estimatorParamMaps = myParams,numFolds = 4,evaluator = myEvaluator)\n",
    "bestModelRF = validator.fit(trainDF)\n",
    "resultRF = bestModelRF.transform(testDF)\n",
    "result = myEvaluator.evaluate(resultRF)\n",
    "print(\"Accuracy: \", result)\n",
    "print(\"Num Trees : \",bestModelRF.bestModel._java_obj.getNumTrees())\n",
    "print(\"Max Depth : \",bestModelRF.bestModel._java_obj.getMaxDepth())\n",
    "print(\"Impurity :  \",bestModelRF.bestModel._java_obj.getImpurity())"
   ]
  }
 ],
 "metadata": {
  "kernelspec": {
   "display_name": "Python 3",
   "language": "python",
   "name": "python3"
  },
  "language_info": {
   "codemirror_mode": {
    "name": "ipython",
    "version": 3
   },
   "file_extension": ".py",
   "mimetype": "text/x-python",
   "name": "python",
   "nbconvert_exporter": "python",
   "pygments_lexer": "ipython3",
   "version": "3.7.1"
  }
 },
 "nbformat": 4,
 "nbformat_minor": 2
}
